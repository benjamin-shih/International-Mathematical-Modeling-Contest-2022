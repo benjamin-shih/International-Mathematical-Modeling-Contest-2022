{
 "cells": [
  {
   "cell_type": "code",
   "execution_count": 3,
   "id": "a801ffaf",
   "metadata": {},
   "outputs": [],
   "source": [
    "import numpy\n",
    "import matplotlib\n",
    "\n",
    "x = 'benjamin'"
   ]
  }
 ],
 "metadata": {
  "kernelspec": {
   "display_name": "Python (imcm22)",
   "language": "python",
   "name": "imcm22"
  },
  "language_info": {
   "codemirror_mode": {
    "name": "ipython",
    "version": 3
   },
   "file_extension": ".py",
   "mimetype": "text/x-python",
   "name": "python",
   "nbconvert_exporter": "python",
   "pygments_lexer": "ipython3",
   "version": "3.10.2"
  }
 },
 "nbformat": 4,
 "nbformat_minor": 5
}
